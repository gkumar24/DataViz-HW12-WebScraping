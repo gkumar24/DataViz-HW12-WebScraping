{
 "cells": [
  {
   "cell_type": "markdown",
   "metadata": {},
   "source": [
    "## Initializations"
   ]
  },
  {
   "cell_type": "code",
   "execution_count": 1,
   "metadata": {},
   "outputs": [],
   "source": [
    "# Dependencies\n",
    "import os\n",
    "from bs4 import BeautifulSoup as bs, re\n",
    "from splinter import Browser\n",
    "import pandas as pd"
   ]
  },
  {
   "cell_type": "code",
   "execution_count": 2,
   "metadata": {},
   "outputs": [],
   "source": [
    "# Chrome Driver\n",
    "executable_path = {'executable_path': '/Chromedrv/chromedriver.exe'}\n",
    "browser = Browser('chrome', **executable_path, headless=False)"
   ]
  },
  {
   "cell_type": "markdown",
   "metadata": {},
   "source": [
    "## Function to return Beautifulsoup"
   ]
  },
  {
   "cell_type": "code",
   "execution_count": 3,
   "metadata": {},
   "outputs": [],
   "source": [
    "def Create_BeautifulSoup(url,browser):\n",
    "    browser.visit(url)\n",
    "    \n",
    "    # Get html content of the visited page\n",
    "    html_content = browser.html\n",
    "\n",
    "    # Create a Beautiful Soup object, for the browser html\n",
    "    soup = bs(html_content, 'html.parser')\n",
    "    \n",
    "    return soup    "
   ]
  },
  {
   "cell_type": "code",
   "execution_count": 5,
   "metadata": {},
   "outputs": [
    {
     "name": "stdout",
     "output_type": "stream",
     "text": [
      "NASA's Treasure Map for Water Ice on Mars\n"
     ]
    }
   ],
   "source": [
    "# Sample call for function Create_BeautifulSoup\n",
    "url = 'https://mars.nasa.gov/news'\n",
    "soup = Create_BeautifulSoup(url,browser)\n",
    "NewsSlide = soup.find('section',class_='grid_gallery').find('div',class_='list_text')\n",
    "news_title = NewsSlide.find('div',class_='content_title').text\n",
    "print(news_title)"
   ]
  },
  {
   "cell_type": "markdown",
   "metadata": {},
   "source": [
    "## Scrape NASA Mars News"
   ]
  },
  {
   "cell_type": "code",
   "execution_count": 6,
   "metadata": {},
   "outputs": [],
   "source": [
    "#URL for NASA News Website\n",
    "url = 'https://mars.nasa.gov/news'\n",
    "\n",
    "# Create a Beautiful Soup object, for the browser html\n",
    "soup = Create_BeautifulSoup(url,browser)"
   ]
  },
  {
   "cell_type": "code",
   "execution_count": 7,
   "metadata": {},
   "outputs": [],
   "source": [
    "#Search for the 1st article/news\n",
    "NewsSlide = soup.find('section',class_='grid_gallery').find('div',class_='list_text')\n",
    "# NewsSlide"
   ]
  },
  {
   "cell_type": "code",
   "execution_count": 8,
   "metadata": {},
   "outputs": [],
   "source": [
    "#Scrate the title and article teaser\n",
    "news_title = NewsSlide.find('div',class_='content_title').text\n",
    "news_teaser = NewsSlide.find('div',class_='article_teaser_body').text"
   ]
  },
  {
   "cell_type": "code",
   "execution_count": 9,
   "metadata": {},
   "outputs": [
    {
     "name": "stdout",
     "output_type": "stream",
     "text": [
      "Title: NASA's Treasure Map for Water Ice on Mars\n",
      "Teaser: A new study identifies frozen water just below the Martian surface, where astronauts could easily dig it up.\n"
     ]
    }
   ],
   "source": [
    "print(f\"Title: {news_title}\")\n",
    "print(f\"Teaser: {news_teaser}\")"
   ]
  },
  {
   "cell_type": "markdown",
   "metadata": {},
   "source": [
    "## JPL Mars Space Images - Featured Image"
   ]
  },
  {
   "cell_type": "code",
   "execution_count": 10,
   "metadata": {},
   "outputs": [],
   "source": [
    "#URL for JPL \n",
    "jpl_url = 'https://www.jpl.nasa.gov'\n",
    "\n",
    "# URL to search for featured Mars image\n",
    "url = jpl_url + '/spaceimages/index.php?category=Mars'\n",
    "\n",
    "# Create a Beautiful Soup object, for the browser html\n",
    "soup = Create_BeautifulSoup(url,browser)"
   ]
  },
  {
   "cell_type": "code",
   "execution_count": 11,
   "metadata": {},
   "outputs": [],
   "source": [
    "#Search for the 1st article/news\n",
    "ImageSlide = soup.find('ul',class_='articles').find('a',class_='fancybox')\n",
    "# ImageSlide"
   ]
  },
  {
   "cell_type": "code",
   "execution_count": 12,
   "metadata": {},
   "outputs": [
    {
     "name": "stdout",
     "output_type": "stream",
     "text": [
      "Featured Mars Image: https://www.jpl.nasa.gov/spaceimages/images/largesize/PIA23579_hires.jpg\n"
     ]
    }
   ],
   "source": [
    "#Scrate the title and article teaser\n",
    "featured_image_url = jpl_url + ImageSlide['data-fancybox-href']\n",
    "print(f\"Featured Mars Image: {featured_image_url}\")"
   ]
  },
  {
   "cell_type": "markdown",
   "metadata": {},
   "source": [
    "## Mars Weather"
   ]
  },
  {
   "cell_type": "code",
   "execution_count": 13,
   "metadata": {},
   "outputs": [],
   "source": [
    "# URL of Mars weather twitter account\n",
    "url = 'https://twitter.com/marswxreport?lang=en'\n",
    "\n",
    "# Create a Beautiful Soup object, for the browser html\n",
    "soup = Create_BeautifulSoup(url,browser)"
   ]
  },
  {
   "cell_type": "code",
   "execution_count": 14,
   "metadata": {},
   "outputs": [
    {
     "name": "stdout",
     "output_type": "stream",
     "text": [
      "Mars Weather Tweet: InSight sol 373 (2019-12-14) low -98.1ºC (-144.6ºF) high -20.1ºC (-4.1ºF)\n",
      "winds from the SW at 4.9 m/s (11.1 mph) gusting to 19.7 m/s (44.0 mph)\n",
      "pressure at 6.60 hPa\n"
     ]
    }
   ],
   "source": [
    "#Search for the latest tweet\n",
    "tweetContainer = soup.find('div',class_='js-tweet-text-container').find('p')\n",
    "tweetImageText = tweetContainer.find('a').text\n",
    "mars_weather = tweetContainer.text\n",
    "mars_weather = mars_weather.replace(tweetImageText, \"\")\n",
    "\n",
    "print(f\"Mars Weather Tweet: {mars_weather}\")"
   ]
  },
  {
   "cell_type": "markdown",
   "metadata": {},
   "source": [
    "## Mars Facts"
   ]
  },
  {
   "cell_type": "code",
   "execution_count": 15,
   "metadata": {},
   "outputs": [],
   "source": [
    "# URL of Mars facts\n",
    "url = 'https://space-facts.com/mars/'\n",
    "\n",
    "# Create a Beautiful Soup object, for the browser html\n",
    "soup = Create_BeautifulSoup(url,browser)"
   ]
  },
  {
   "cell_type": "code",
   "execution_count": 16,
   "metadata": {},
   "outputs": [
    {
     "name": "stdout",
     "output_type": "stream",
     "text": [
      "[{'title': 'Equatorial Diameter', 'detail': '6,792 km'}, {'title': 'Polar Diameter', 'detail': '6,752 km'}, {'title': 'Mass', 'detail': '6.39 × 10^23 kg (0.11 Earths)'}, {'title': 'Moons', 'detail': '2 (Phobos & Deimos)'}, {'title': 'Orbit Distance', 'detail': '227,943,824 km (1.38 AU)'}, {'title': 'Orbit Period', 'detail': '687 days (1.9 years)'}, {'title': 'Surface Temperature ', 'detail': '-87 to -5 °C'}, {'title': 'First Record', 'detail': '2nd millennium BC'}, {'title': 'Recorded By', 'detail': 'Egyptian astronomers'}]\n"
     ]
    }
   ],
   "source": [
    "#Search for the 1st article/news\n",
    "#create Disctionary to store data, \n",
    "mars_facts_list = []\n",
    "mars_fact_dict = dict()\n",
    "mars_fact_table = soup.find(id=\"tablepress-p-mars-no-2\").find_all(\"tr\")\n",
    "for mars_fact in mars_fact_table:\n",
    "    fact_cell = mars_fact.find_all(\"td\")    \n",
    "    mars_fact_dict[\"title\"] = fact_cell[0].text.replace(\":\",\"\")\n",
    "    mars_fact_dict[\"detail\"] = fact_cell[1].text\n",
    "    mars_facts_list.append(dict(mars_fact_dict))\n",
    "\n",
    "print(mars_facts_list)"
   ]
  },
  {
   "cell_type": "markdown",
   "metadata": {},
   "source": [
    "## Mars Hemispheres"
   ]
  },
  {
   "cell_type": "code",
   "execution_count": 17,
   "metadata": {},
   "outputs": [],
   "source": [
    "# URL of Mars facts\n",
    "base_url = \"https://astrogeology.usgs.gov\"\n",
    "url = base_url + '/search/results?q=hemisphere+enhanced&k1=target&v1=Mars'\n",
    "\n",
    "# Create a Beautiful Soup object, for the browser html\n",
    "soup = Create_BeautifulSoup(url,browser)"
   ]
  },
  {
   "cell_type": "code",
   "execution_count": 18,
   "metadata": {},
   "outputs": [],
   "source": [
    "# get all sections containing the result\n",
    "hemisphereSlides = soup.find(\"div\",class_=\"results\").find_all(\"div\",class_=\"description\")"
   ]
  },
  {
   "cell_type": "code",
   "execution_count": 19,
   "metadata": {},
   "outputs": [
    {
     "name": "stdout",
     "output_type": "stream",
     "text": [
      "processng link: Cerberus Hemisphere\n",
      "processng link: Schiaparelli Hemisphere\n",
      "processng link: Syrtis Major Hemisphere\n",
      "processng link: Valles Marineris Hemisphere\n"
     ]
    }
   ],
   "source": [
    "# Create variables to store Image Link detail. \n",
    "imageDict = {}\n",
    "hemisphere_image_urls = []\n",
    "\n",
    "# Loop through each of the result, and get the full resolution image link\n",
    "for slide in hemisphereSlides:    \n",
    "    hemisphereName = slide.find('a',class_='product-item').text.replace(\"Enhanced\",\"\").strip()\n",
    "    hemisphereUrl = base_url + slide.a[\"href\"]      \n",
    "    \n",
    "    print(f\"processng link: {hemisphereName}\") \n",
    "    # browse each url, to get the enhanced image link    \n",
    "    \n",
    "    # Create a Beautiful Soup object, for the browser html\n",
    "    soup2 = Create_BeautifulSoup(hemisphereUrl,browser)\n",
    "    \n",
    "    #Search the line item, in the download dection\n",
    "    ImageURL = soup2.find(\"div\",class_=\"downloads\").find(\"a\",text=\"Sample\")\n",
    "    \n",
    "    #Create dictionary, of detail captured\n",
    "    imageDict[\"title\"] = hemisphereName\n",
    "    imageDict[\"img_url\"] = ImageURL.get(\"href\")\n",
    "    \n",
    "    # Append the dictionary to the final list\n",
    "    hemisphere_image_urls.append(dict(imageDict))"
   ]
  },
  {
   "cell_type": "code",
   "execution_count": 20,
   "metadata": {},
   "outputs": [
    {
     "name": "stdout",
     "output_type": "stream",
     "text": [
      "Hemisphere Image List:\n",
      "[{'title': 'Cerberus Hemisphere', 'img_url': 'http://astropedia.astrogeology.usgs.gov/download/Mars/Viking/cerberus_enhanced.tif/full.jpg'}, {'title': 'Schiaparelli Hemisphere', 'img_url': 'http://astropedia.astrogeology.usgs.gov/download/Mars/Viking/schiaparelli_enhanced.tif/full.jpg'}, {'title': 'Syrtis Major Hemisphere', 'img_url': 'http://astropedia.astrogeology.usgs.gov/download/Mars/Viking/syrtis_major_enhanced.tif/full.jpg'}, {'title': 'Valles Marineris Hemisphere', 'img_url': 'http://astropedia.astrogeology.usgs.gov/download/Mars/Viking/valles_marineris_enhanced.tif/full.jpg'}]\n"
     ]
    }
   ],
   "source": [
    "print(\"Hemisphere Image List:\")\n",
    "print(hemisphere_image_urls)"
   ]
  },
  {
   "cell_type": "code",
   "execution_count": 21,
   "metadata": {},
   "outputs": [],
   "source": [
    "#Close the browser, once complete.\n",
    "browser.quit()"
   ]
  },
  {
   "cell_type": "code",
   "execution_count": null,
   "metadata": {},
   "outputs": [],
   "source": []
  }
 ],
 "metadata": {
  "kernelspec": {
   "display_name": "Python 3",
   "language": "python",
   "name": "python3"
  },
  "language_info": {
   "codemirror_mode": {
    "name": "ipython",
    "version": 3
   },
   "file_extension": ".py",
   "mimetype": "text/x-python",
   "name": "python",
   "nbconvert_exporter": "python",
   "pygments_lexer": "ipython3",
   "version": "3.6.9"
  }
 },
 "nbformat": 4,
 "nbformat_minor": 2
}
